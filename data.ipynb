{
 "cells": [
  {
   "cell_type": "markdown",
   "id": "0f79e372-818f-40a1-8308-c6eb904581b5",
   "metadata": {},
   "source": [
    "# Data"
   ]
  },
  {
   "cell_type": "code",
   "execution_count": 39,
   "id": "7a3c5670-df9d-4c58-91ee-78190d373daa",
   "metadata": {},
   "outputs": [],
   "source": [
    "import amcatclient\n",
    "import json\n",
    "import pandas as pd\n",
    "import re"
   ]
  },
  {
   "cell_type": "markdown",
   "id": "836806f4-4bc1-487d-ad41-cda8453011ae",
   "metadata": {},
   "source": [
    "## 1. Download data"
   ]
  },
  {
   "cell_type": "code",
   "execution_count": 11,
   "id": "d3be3fb8-1e0d-4bee-9f25-21b57188106e",
   "metadata": {},
   "outputs": [],
   "source": [
    "def download_data():\n",
    "    conn = amcatclient.AmcatAPI(\"https://vu.amcat.nl\")\n",
    "    docs = conn.get_articles(project=69, articleset=3521, start_date=\"2021-01-01\", columns=[\"id\", \"title\", \"date\", \"url\", \"publisher\", \"text\"])\n",
    "    data = []\n",
    "    for doc in docs:\n",
    "        data.append(doc)\n",
    "    return data"
   ]
  },
  {
   "cell_type": "code",
   "execution_count": 23,
   "id": "53f7103a-bbf7-4068-8766-e2227bfb13c9",
   "metadata": {},
   "outputs": [],
   "source": [
    "def store_data_csv(data, file_name):\n",
    "    pd.DataFrame(data).to_csv(file_name, index=False)"
   ]
  },
  {
   "cell_type": "code",
   "execution_count": 40,
   "id": "ef1b01a2-f085-4a71-9c94-278ae767bb48",
   "metadata": {},
   "outputs": [],
   "source": [
    "def store_data_doccano(data, file_name):\n",
    "    out_file = open(file_name, \"w\")\n",
    "    for d in data:\n",
    "        print(json.dumps(d), file=out_file)\n",
    "    out_file.close()"
   ]
  },
  {
   "cell_type": "code",
   "execution_count": null,
   "id": "f24b7941-fed3-41e0-9ead-eba97789b9f1",
   "metadata": {},
   "outputs": [],
   "source": [
    "data = download_data()"
   ]
  },
  {
   "cell_type": "code",
   "execution_count": 24,
   "id": "97c5c643-8c27-498e-b9a3-0f8a42e335d8",
   "metadata": {},
   "outputs": [],
   "source": [
    "store_data_csv(data, \"../data/teletekst.csv\")"
   ]
  },
  {
   "cell_type": "code",
   "execution_count": 42,
   "id": "d861ff24-4e0b-4775-a2a8-4dde168afe6c",
   "metadata": {},
   "outputs": [],
   "source": [
    "store_data_doccano(data, \"../data/teletekst.json\")"
   ]
  },
  {
   "cell_type": "markdown",
   "id": "de9faa3a-94c7-4656-ba0c-598f03ab057a",
   "metadata": {},
   "source": [
    "## 2. Use data"
   ]
  },
  {
   "cell_type": "code",
   "execution_count": 34,
   "id": "854c2485-d1da-49d4-a585-389c366b2bd3",
   "metadata": {},
   "outputs": [],
   "source": [
    "def read_data(file_name):\n",
    "    return pd.read_csv(file_name).to_dict(orient=\"records\")"
   ]
  },
  {
   "cell_type": "code",
   "execution_count": 37,
   "id": "15819ca1-d785-4f00-a318-0122dd3e9789",
   "metadata": {},
   "outputs": [],
   "source": [
    "test = read_data(\"../data/teletekst.csv\")"
   ]
  },
  {
   "cell_type": "code",
   "execution_count": 38,
   "id": "c8fa7257-e9b7-4400-9faa-372103ff2d88",
   "metadata": {},
   "outputs": [
    {
     "name": "stdout",
     "output_type": "stream",
     "text": [
      "{'id': 41477175, 'date': '2021-05-21T16:52:19+00:00', 'publisher': 'teletekst', 'text': 'De rechtbank heeft een 61-jarige man uit Ede veroordeeld tot acht weken cel voor het bedreigen van premier Rutte, de ministers Grapperhaus, De Jonge en Van Ark en RIVM-baas van Dissel. Vier weken van de straf zijn voorwaardelijk.\\n\\nDe man stuurde in november een tweet naar Mark Rutte. Daarin schreef hij dat er \"maar één echt werkende maatregel\" is.\"Jouw, Hugo, Ferd en Tamara de strot doorsnijden!\", schreef hij. Een maand later bedreigde hij Van Dissel.\\n\\nVerder zijn gisteren opnieuw verdachten opgepakt voor het bedreigen van Jaap van Dissel. Het gaat om man (47) uit Den Haag en een 33-jarige man uit Enschede.', 'title': 'Cel voor bedreiger kabinet, V. Dissel', 'url': 'https://twitter.com/Teletekst/status/1395784530599022594'}\n"
     ]
    }
   ],
   "source": [
    "for d in test:\n",
    "    if re.search(\"de jonge\", d[\"text\"], flags=re.IGNORECASE):\n",
    "        print(d)\n",
    "        break"
   ]
  },
  {
   "cell_type": "code",
   "execution_count": null,
   "id": "9cea2c38-6781-46af-a5be-7d4320a8fd0d",
   "metadata": {},
   "outputs": [],
   "source": []
  }
 ],
 "metadata": {
  "kernelspec": {
   "display_name": "python37",
   "language": "python",
   "name": "python37"
  },
  "language_info": {
   "codemirror_mode": {
    "name": "ipython",
    "version": 3
   },
   "file_extension": ".py",
   "mimetype": "text/x-python",
   "name": "python",
   "nbconvert_exporter": "python",
   "pygments_lexer": "ipython3",
   "version": "3.7.3"
  }
 },
 "nbformat": 4,
 "nbformat_minor": 5
}
