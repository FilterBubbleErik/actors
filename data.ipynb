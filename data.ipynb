{
 "cells": [
  {
   "cell_type": "markdown",
   "id": "0f79e372-818f-40a1-8308-c6eb904581b5",
   "metadata": {},
   "source": [
    "# Data"
   ]
  },
  {
   "cell_type": "code",
   "execution_count": 1,
   "id": "7a3c5670-df9d-4c58-91ee-78190d373daa",
   "metadata": {},
   "outputs": [],
   "source": [
    "import amcatclient\n",
    "import json\n",
    "import pandas as pd\n",
    "import re"
   ]
  },
  {
   "cell_type": "markdown",
   "id": "836806f4-4bc1-487d-ad41-cda8453011ae",
   "metadata": {},
   "source": [
    "## 1. Download data"
   ]
  },
  {
   "cell_type": "code",
   "execution_count": 11,
   "id": "d3be3fb8-1e0d-4bee-9f25-21b57188106e",
   "metadata": {},
   "outputs": [],
   "source": [
    "def download_data():\n",
    "    conn = amcatclient.AmcatAPI(\"https://vu.amcat.nl\")\n",
    "    docs = conn.get_articles(project=69, articleset=3521, start_date=\"2021-01-01\", columns=[\"id\", \"title\", \"date\", \"url\", \"publisher\", \"text\"])\n",
    "    data = []\n",
    "    for doc in docs:\n",
    "        data.append(doc)\n",
    "    return data"
   ]
  },
  {
   "cell_type": "code",
   "execution_count": 23,
   "id": "53f7103a-bbf7-4068-8766-e2227bfb13c9",
   "metadata": {},
   "outputs": [],
   "source": [
    "def store_data_csv(data, file_name):\n",
    "    pd.DataFrame(data).to_csv(file_name, index=False)"
   ]
  },
  {
   "cell_type": "code",
   "execution_count": 40,
   "id": "ef1b01a2-f085-4a71-9c94-278ae767bb48",
   "metadata": {},
   "outputs": [],
   "source": [
    "def store_data_doccano(data, file_name):\n",
    "    out_file = open(file_name, \"w\")\n",
    "    for d in data:\n",
    "        print(json.dumps(d), file=out_file)\n",
    "    out_file.close()"
   ]
  },
  {
   "cell_type": "code",
   "execution_count": null,
   "id": "f24b7941-fed3-41e0-9ead-eba97789b9f1",
   "metadata": {},
   "outputs": [],
   "source": [
    "data = download_data()"
   ]
  },
  {
   "cell_type": "code",
   "execution_count": 24,
   "id": "97c5c643-8c27-498e-b9a3-0f8a42e335d8",
   "metadata": {},
   "outputs": [],
   "source": [
    "store_data_csv(data, \"../data/teletekst.csv\")"
   ]
  },
  {
   "cell_type": "code",
   "execution_count": 42,
   "id": "d861ff24-4e0b-4775-a2a8-4dde168afe6c",
   "metadata": {},
   "outputs": [],
   "source": [
    "store_data_doccano(data, \"../data/teletekst.json\")"
   ]
  },
  {
   "cell_type": "markdown",
   "id": "de9faa3a-94c7-4656-ba0c-598f03ab057a",
   "metadata": {},
   "source": [
    "## 2. Use data\n",
    "\n",
    "Documentation for VU linguistic processing docker: https://vu-rm-pip3.readthedocs.io/en/latest/docker.html"
   ]
  },
  {
   "cell_type": "code",
   "execution_count": 44,
   "id": "5c97a7e6-7108-404e-b202-b747d93868c5",
   "metadata": {},
   "outputs": [],
   "source": [
    "from bs4 import BeautifulSoup\n",
    "from bs4 import Comment\n",
    "import os\n",
    "import tempfile\n",
    "import timeit"
   ]
  },
  {
   "cell_type": "code",
   "execution_count": 3,
   "id": "854c2485-d1da-49d4-a585-389c366b2bd3",
   "metadata": {},
   "outputs": [],
   "source": [
    "def read_data(file_name):\n",
    "    return pd.read_csv(file_name).to_dict(orient=\"records\")"
   ]
  },
  {
   "cell_type": "code",
   "execution_count": 100,
   "id": "e59b7762-8bee-479c-9ad6-3d567a46881a",
   "metadata": {},
   "outputs": [],
   "source": [
    "def store_text_in_file(text):\n",
    "    _, tmp_file_name_with_dir = tempfile.mkstemp(dir=\"tmp\")\n",
    "    tmp_file = open(tmp_file_name_with_dir, \"w\")\n",
    "    print(text, file=tmp_file)\n",
    "    tmp_file.close()\n",
    "    return tmp_file_name_with_dir"
   ]
  },
  {
   "cell_type": "code",
   "execution_count": 81,
   "id": "80cbe963-3673-468e-85ac-b8eb1ac96449",
   "metadata": {},
   "outputs": [],
   "source": [
    "def annotate_process(tmp_file_name_with_dir):\n",
    "    tmp_file_name_without_dir = tmp_file_name_with_dir.split(\"/\")[-1]\n",
    "    os.system(f\"docker run -v $(pwd)/tmp/:/wrk/ vucltl/vu-rm-pip3 -m entities /wrk/{tmp_file_name_without_dir} > {tmp_file_name_with_dir}.out 2> {tmp_file_name_with_dir}.log\")"
   ]
  },
  {
   "cell_type": "code",
   "execution_count": 76,
   "id": "1ceb9f42-c166-4f2a-bffb-a3374c5f3526",
   "metadata": {},
   "outputs": [],
   "source": [
    "def read_annotations(tmp_file_name_with_dir):\n",
    "    processed_file = open(f\"{tmp_file_name_with_dir}.out\", \"r\")\n",
    "    processed_data = \"\"\n",
    "    for line in processed_file:\n",
    "        processed_data += line\n",
    "    processed_file.close()\n",
    "    return BeautifulSoup(processed_data)"
   ]
  },
  {
   "cell_type": "code",
   "execution_count": 87,
   "id": "de7c58c0-b98c-40b1-b6a7-764c95b19391",
   "metadata": {},
   "outputs": [],
   "source": [
    "def cleanup_files(tmp_file_name_with_dir):\n",
    "    os.unlink(tmp_file_name_with_dir)\n",
    "    os.unlink(f\"{tmp_file_name_with_dir}.out\")\n",
    "    os.unlink(f\"{tmp_file_name_with_dir}.log\")"
   ]
  },
  {
   "cell_type": "code",
   "execution_count": 113,
   "id": "54c9b336-49d2-48aa-ad5a-8986b0a088df",
   "metadata": {},
   "outputs": [],
   "source": [
    "def annotate_text(text):\n",
    "    tmp_file_name_with_dir = store_text_in_file(text)\n",
    "    annotate_process(tmp_file_name_with_dir)\n",
    "    annotation_soup = read_annotations(tmp_file_name_with_dir)\n",
    "    cleanup_files(tmp_file_name_with_dir)\n",
    "    return annotation_soup"
   ]
  },
  {
   "cell_type": "code",
   "execution_count": 68,
   "id": "dd699f32-3f41-4937-962b-60c350a181a3",
   "metadata": {},
   "outputs": [],
   "source": [
    "def get_words(soup):\n",
    "    words = {}\n",
    "    for word in soup.find_all(\"wf\"):\n",
    "        if word[\"id\"] not in words:\n",
    "            words[word[\"id\"]] = [ word.text ] \n",
    "        else:\n",
    "            words[word[\"id\"]].append(word.text)\n",
    "    return words"
   ]
  },
  {
   "cell_type": "code",
   "execution_count": 69,
   "id": "4c6a96ae-c8e1-4745-929c-ff73d59f06b4",
   "metadata": {},
   "outputs": [],
   "source": [
    "def get_terms(soup):\n",
    "    terms = {}\n",
    "    for term in soup.find_all(\"term\"):\n",
    "        for target in term.find_all(\"target\"):\n",
    "            if term[\"id\"] not in terms:\n",
    "                terms[term[\"id\"]] = [ target[\"id\"] ]\n",
    "            else:\n",
    "                terms[term[\"id\"]].append(target[\"id\"])\n",
    "    return terms"
   ]
  },
  {
   "cell_type": "code",
   "execution_count": 70,
   "id": "878c22b9-a56a-463a-ba6e-66f62e321279",
   "metadata": {},
   "outputs": [],
   "source": [
    "def get_entities(soup):\n",
    "    entities = {}\n",
    "    for entity in soup.find_all(\"entity\"):\n",
    "        for target in entity.find_all(\"target\"):\n",
    "            if entity[\"id\"] not in entities:\n",
    "                entities[entity[\"id\"]] = { \"type\": entity[\"type\"], \"targets\": [ target[\"id\"] ] }\n",
    "            else:\n",
    "                entities[entity[\"id\"]][\"targets\"].append(target[\"id\"])\n",
    "    return entities"
   ]
  },
  {
   "cell_type": "code",
   "execution_count": 4,
   "id": "15819ca1-d785-4f00-a318-0122dd3e9789",
   "metadata": {},
   "outputs": [],
   "source": [
    "data = read_data(\"../data/teletekst.csv\")"
   ]
  },
  {
   "cell_type": "code",
   "execution_count": 114,
   "id": "1a48e1e3-dae3-4324-8c0b-d71d3eafa38b",
   "metadata": {},
   "outputs": [],
   "source": [
    "soup = annotate_text(data[2][\"text\"])\n",
    "words = get_words(soup)\n",
    "terms = get_terms(soup)\n",
    "entities = get_entities(soup)"
   ]
  },
  {
   "cell_type": "code",
   "execution_count": 115,
   "id": "1e02b01b-f569-4f3e-ad8b-e5442be55d8a",
   "metadata": {},
   "outputs": [
    {
     "data": {
      "text/plain": [
       "'Het dodental van het ongeluk met een kabelbaan in Noord-Italië is opgelopen naar veertien. Vanavond overleed in een ziekenhuis in Turijn een van de twee zwaargewonde kinderen die uit de neergestorte gondel waren gehaald.\\n\\nEen cabine van de kabelbaan van Stresa aan het Lago Maggiore naar de top van de Monte Mottarone stortte in de diepte toen een kabel het begaf. In de cabine werden daarna negen lichamen gevonden, en in het bos op de berg nog eens vier.\\n\\nDe kabelbaan was pas weer open, na een versoepeling van de coronamaatregelen. Het laatste grote onderhoud was tussen 2014 en 2016 uitgevoerd.'"
      ]
     },
     "execution_count": 115,
     "metadata": {},
     "output_type": "execute_result"
    }
   ],
   "source": [
    "data[2][\"text\"]"
   ]
  },
  {
   "cell_type": "code",
   "execution_count": 116,
   "id": "ad8b6d77-8a86-4e5c-8a2f-6ab27dfd08b4",
   "metadata": {},
   "outputs": [
    {
     "name": "stdout",
     "output_type": "stream",
     "text": [
      "LOC Noord-Italië \n",
      "LOC Turijn \n",
      "LOC Stresa \n",
      "ORG Lago Maggiore \n",
      "ORG Monte Mottarone \n"
     ]
    }
   ],
   "source": [
    "for entity in entities:\n",
    "    print(entities[entity][\"type\"], end=\" \")\n",
    "    for target in entities[entity][\"targets\"]:\n",
    "        for term in terms[target]:\n",
    "            for word in words[term]:\n",
    "                print(word, end=\" \")\n",
    "    print(\"\")"
   ]
  },
  {
   "cell_type": "code",
   "execution_count": null,
   "id": "ad31e2f8-a99b-4d8a-8c2b-f8558fb72ed0",
   "metadata": {},
   "outputs": [],
   "source": []
  }
 ],
 "metadata": {
  "kernelspec": {
   "display_name": "python37",
   "language": "python",
   "name": "python37"
  },
  "language_info": {
   "codemirror_mode": {
    "name": "ipython",
    "version": 3
   },
   "file_extension": ".py",
   "mimetype": "text/x-python",
   "name": "python",
   "nbconvert_exporter": "python",
   "pygments_lexer": "ipython3",
   "version": "3.7.3"
  }
 },
 "nbformat": 4,
 "nbformat_minor": 5
}
